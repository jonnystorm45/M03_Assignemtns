{
 "cells": [
  {
   "cell_type": "code",
   "execution_count": 1,
   "id": "8e3f5129",
   "metadata": {},
   "outputs": [
    {
     "name": "stdout",
     "output_type": "stream",
     "text": [
      "Type of Vehicle: Car\n",
      "Enter the year: 2022\n",
      "Enter manufacture: Toyota\n",
      "Enter the model: Corolla\n",
      "Enter the Number of doors(2 or 4): 4\n",
      "Enter type of roof(solid or sunroof): Sun Roof\n",
      "\n",
      "Vehicle Type: Car\n",
      "\n",
      "Year: 2022\n",
      "\n",
      "Make: Toyota\n",
      "\n",
      "Model: Corolla\n",
      "\n",
      "Number of Doors: 4\n",
      "\n",
      "Type of Roof: Sun Roof\n"
     ]
    }
   ],
   "source": [
    "class Vehicle:\n",
    "    def __init__(self, type):\n",
    "        self.type = type\n",
    "\n",
    "\n",
    "class Automobile(Vehicle):\n",
    "    def __init__(self, type, year, make, model, doors, roof):\n",
    "        super().__init__(type)\n",
    "        self.year = year\n",
    "        self.make = make\n",
    "        self.model = model\n",
    "        self.doors = doors\n",
    "        self.roof = roof\n",
    "\n",
    "\n",
    "vehicle_type = input(\"Type of Vehicle: \")\n",
    "vehicle_year = input(\"Enter the year: \")\n",
    "vehicle_make = input(\"Enter manufacture: \")\n",
    "vehicle_model = input(\"Enter the model: \")\n",
    "vehicle_doors = input(\"Enter the Number of doors(2 or 4): \")\n",
    "vehicle_roof = input(\"Enter type of roof(solid or sun roof): \")\n",
    "\n",
    "vehicle_1 = Automobile(vehicle_type, vehicle_year, vehicle_make, vehicle_model, vehicle_doors, vehicle_roof)\n",
    "\n",
    "print(\"\\nVehicle Type: \" + vehicle_type)\n",
    "print(\"\\nYear: \" + vehicle_year)\n",
    "print(\"\\nMake: \" + vehicle_make)\n",
    "print(\"\\nModel: \" + vehicle_model)\n",
    "print(\"\\nNumber of Doors: \" + vehicle_doors)\n",
    "print(\"\\nType of Roof: \" + vehicle_roof)"
   ]
  },
  {
   "cell_type": "code",
   "execution_count": null,
   "id": "6403b632",
   "metadata": {},
   "outputs": [],
   "source": []
  }
 ],
 "metadata": {
  "kernelspec": {
   "display_name": "Python 3 (ipykernel)",
   "language": "python",
   "name": "python3"
  },
  "language_info": {
   "codemirror_mode": {
    "name": "ipython",
    "version": 3
   },
   "file_extension": ".py",
   "mimetype": "text/x-python",
   "name": "python",
   "nbconvert_exporter": "python",
   "pygments_lexer": "ipython3",
   "version": "3.9.13"
  }
 },
 "nbformat": 4,
 "nbformat_minor": 5
}
